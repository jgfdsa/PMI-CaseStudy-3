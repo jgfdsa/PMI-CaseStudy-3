{
 "cells": [
  {
   "cell_type": "markdown",
   "metadata": {},
   "source": [
    "# My Surroundings\n",
    "## Author: Gregorio Ferreira - ferreiradesajg@gmail.com\n",
    "\n",
    "### Document description:\n",
    "This notebook, contains the steps followed to explore, validate and prepare the \"Surroundings.json\" data source, to be used as features.\n"
   ]
  },
  {
   "cell_type": "code",
   "execution_count": 1,
   "metadata": {},
   "outputs": [
    {
     "name": "stdout",
     "output_type": "stream",
     "text": [
      "Sanity check 1, there are only two keys:store_code, surroundings.\n",
      "No list should be returned if all ok!\n"
     ]
    }
   ],
   "source": [
    "import json \n",
    "import pandas as pd \n",
    "from pandas.io.json import json_normalize #package for flattening json in pandas df\n",
    "import numpy as np\n",
    "import os\n",
    "os.chdir('XXX - YOUR PATH HERE - XXX')\n",
    "\n",
    "#load json object\n",
    "with open('./data/Surroundings.json') as my_list:\n",
    "    my_list = json.load(my_list)\n",
    "\n",
    "print('Sanity check 1, there are only two keys:store_code, surroundings.\\nNo list should be returned if all ok!')\n",
    "for x in my_list:\n",
    "    if len(x) != 2:\n",
    "        print(x) "
   ]
  },
  {
   "cell_type": "code",
   "execution_count": 2,
   "metadata": {
    "collapsed": true
   },
   "outputs": [],
   "source": [
    "## Extracting surroundings details\n",
    "colNames = ('store_code','col_name','name', 'place_id', 'latitude', 'longitude', 'country', 'postal_code')\n",
    "\n",
    "# Define a dataframe with the required column names\n",
    "df_out = pd.DataFrame(columns = colNames)        \n",
    "\n",
    "for x in my_list:\n",
    "    my_surr = json_normalize(x['surroundings'])\n",
    "    \n",
    "    cols = list(my_surr.columns)\n",
    "    #col = 84\n",
    "    for col in cols:\n",
    "        my_list_l2 = json_normalize(x['surroundings'][col])      \n",
    "    \n",
    "        if(len(my_list_l2) != 0):\n",
    "              \n",
    "                for ii in range(0, len(my_list_l2)):\n",
    "                    temp = json_normalize(my_list_l2.address_components[ii])\n",
    "                    \n",
    "                    postal_code_test = temp.loc[temp['types'].astype(str) == \"['postal_code']\",'short_name']\n",
    "                    \n",
    "                    if(len(postal_code_test) != 0):\n",
    "                        postal_code = postal_code_test.values[0]\n",
    "                    else:\n",
    "                        postal_code = np.nan\n",
    "                        \n",
    "                    country_test = temp.loc[temp['types'].astype(str) == \"['country', 'political']\",'short_name']\n",
    "                    \n",
    "                    if(len(country_test) != 0):\n",
    "                        country = country_test.values[0]\n",
    "                    else:\n",
    "                        country = np.nan\n",
    "                    \n",
    "                    df_out = df_out.append([{'store_code':x['store_code'],\n",
    "                                   'col_name' : col,\n",
    "                                   'name' : my_list_l2.name[ii],\n",
    "                                   'place_id' : my_list_l2.place_id[ii],\n",
    "                                   'latitude' : my_list_l2.latitude[ii],\n",
    "                                   'longitude' : my_list_l2.longitude[ii],\n",
    "                                   'postal_code' : postal_code,\n",
    "                                   'country' : country,\n",
    "                                   }],ignore_index=True)   "
   ]
  },
  {
   "cell_type": "code",
<<<<<<< HEAD
   "execution_count": null,
   "metadata": {
    "collapsed": true
   },
   "outputs": [],
   "source": [
    "surroundings_details = df_out[['store_code', 'name', 'place_id', 'latitude', 'longitude',\n",
    "                        'country', 'postal_code']].drop_duplicates(keep='first')\n",
    "\n",
    "surroundings_details.to_csv(\"./result dataset/surroundings_details.csv\",\n",
    "                            sep=',', encoding='utf-8',index=True)\n",
    "\n",
    "surroundings_count = df_out[['store_code', 'col_name']].pivot_table(index = 'store_code',\n",
    "                           columns = 'col_name', aggfunc = len, fill_value = 0)\n",
    "\n",
    "surroundings_count.to_csv(\"./result dataset/surroundings_count.csv\",\n",
    "                          sep=',', encoding='utf-8', index=True)\n",
    "\n",
    "repeated_names = surroundings_details.groupby(['name'])['name'].agg(['count'])\n",
    "\n",
    "repeated_names = repeated_names[(repeated_names['count'] > 1)]\n",
    "\n",
    "repeated_names.to_csv(\"./result dataset/repeated_names.csv\",\n",
    "                          sep=',', encoding='utf-8', index=True)"
   ]
  },
  {
   "cell_type": "code",
   "execution_count": null,
   "metadata": {
    "collapsed": true
   },
   "outputs": [],
   "source": []
  }
 ],
 "metadata": {
  "kernelspec": {
   "display_name": "Python 3",
   "language": "python",
   "name": "python3"
  },
  "language_info": {
   "codemirror_mode": {
    "name": "ipython",
    "version": 3
   },
   "file_extension": ".py",
   "mimetype": "text/x-python",
   "name": "python",
   "nbconvert_exporter": "python",
   "pygments_lexer": "ipython3",
   "version": "3.6.3"
  }
 },
 "nbformat": 4,
 "nbformat_minor": 2
}
